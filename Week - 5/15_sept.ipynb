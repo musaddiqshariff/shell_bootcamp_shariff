{
 "cells": [
  {
   "cell_type": "code",
   "execution_count": 1,
   "id": "efe2c9f4",
   "metadata": {},
   "outputs": [
    {
     "name": "stdout",
     "output_type": "stream",
     "text": [
      "Hi\n"
     ]
    }
   ],
   "source": [
    "a=1\n",
    "a='Hi'\n",
    "print(a)"
   ]
  },
  {
   "cell_type": "code",
   "execution_count": 2,
   "id": "73f20c46",
   "metadata": {},
   "outputs": [
    {
     "data": {
      "text/plain": [
       "int"
      ]
     },
     "execution_count": 2,
     "metadata": {},
     "output_type": "execute_result"
    }
   ],
   "source": [
    "a=(1)\n",
    "type(a)"
   ]
  },
  {
   "cell_type": "code",
   "execution_count": 9,
   "id": "d0fac052",
   "metadata": {},
   "outputs": [],
   "source": [
    "a=(1,2)"
   ]
  },
  {
   "cell_type": "code",
   "execution_count": 30,
   "id": "ece08ec7",
   "metadata": {},
   "outputs": [
    {
     "name": "stdout",
     "output_type": "stream",
     "text": [
      "139820061180752\n"
     ]
    }
   ],
   "source": [
    "a='musaddiq shariff'\n",
    "print(id(a))"
   ]
  },
  {
   "cell_type": "code",
   "execution_count": 31,
   "id": "3aa82bd0",
   "metadata": {},
   "outputs": [
    {
     "name": "stdout",
     "output_type": "stream",
     "text": [
      "139820061181632\n"
     ]
    }
   ],
   "source": [
    "b='musaddiq shariff'\n",
    "print(id(b))"
   ]
  },
  {
   "cell_type": "code",
   "execution_count": 37,
   "id": "f5a15657",
   "metadata": {},
   "outputs": [
    {
     "name": "stdout",
     "output_type": "stream",
     "text": [
      "[('abhishek', 1), ('musaddiq', 2)]\n"
     ]
    }
   ],
   "source": [
    "a=['abhishek','musaddiq']\n",
    "b=[1,2,3,4]\n",
    "print(list(zip(a,b)))"
   ]
  },
  {
   "cell_type": "code",
   "execution_count": 41,
   "id": "eff4b75c",
   "metadata": {},
   "outputs": [
    {
     "data": {
      "text/plain": [
       "set"
      ]
     },
     "execution_count": 41,
     "metadata": {},
     "output_type": "execute_result"
    }
   ],
   "source": [
    "s= set()\n",
    "type(s)"
   ]
  },
  {
   "cell_type": "code",
   "execution_count": 44,
   "id": "6afe08eb",
   "metadata": {},
   "outputs": [],
   "source": [
    "s.add(1)"
   ]
  },
  {
   "cell_type": "code",
   "execution_count": 45,
   "id": "a379f7f1",
   "metadata": {},
   "outputs": [],
   "source": [
    "s.add(1)"
   ]
  },
  {
   "cell_type": "code",
   "execution_count": 46,
   "id": "3aeb8a69",
   "metadata": {},
   "outputs": [
    {
     "name": "stdout",
     "output_type": "stream",
     "text": [
      "{1}\n"
     ]
    }
   ],
   "source": [
    "print(s)"
   ]
  },
  {
   "cell_type": "code",
   "execution_count": 47,
   "id": "4c107f36",
   "metadata": {},
   "outputs": [],
   "source": [
    "s.add(2)"
   ]
  },
  {
   "cell_type": "code",
   "execution_count": 48,
   "id": "8e07f1f3",
   "metadata": {},
   "outputs": [
    {
     "name": "stdout",
     "output_type": "stream",
     "text": [
      "{1, 2}\n"
     ]
    }
   ],
   "source": [
    "print(s)"
   ]
  },
  {
   "cell_type": "code",
   "execution_count": 50,
   "id": "7625eb18",
   "metadata": {},
   "outputs": [
    {
     "name": "stdout",
     "output_type": "stream",
     "text": [
      "4f\n"
     ]
    }
   ],
   "source": [
    "p=(input(4))"
   ]
  },
  {
   "cell_type": "markdown",
   "id": "eed5e6b7",
   "metadata": {},
   "source": [
    "emp_code = int(input())"
   ]
  },
  {
   "cell_type": "code",
   "execution_count": 53,
   "id": "22f9eb14",
   "metadata": {},
   "outputs": [
    {
     "name": "stdout",
     "output_type": "stream",
     "text": [
      "42\n"
     ]
    }
   ],
   "source": [
    "emp_code = int(input())"
   ]
  },
  {
   "cell_type": "code",
   "execution_count": 54,
   "id": "9280ed53",
   "metadata": {},
   "outputs": [
    {
     "name": "stdout",
     "output_type": "stream",
     "text": [
      "{}\n"
     ]
    }
   ],
   "source": [
    "dict= {}\n",
    "print(dict)"
   ]
  },
  {
   "cell_type": "code",
   "execution_count": 58,
   "id": "414399fb",
   "metadata": {},
   "outputs": [],
   "source": [
    "dict[3]=4"
   ]
  },
  {
   "cell_type": "code",
   "execution_count": 59,
   "id": "fc1d2a4c",
   "metadata": {},
   "outputs": [
    {
     "name": "stdout",
     "output_type": "stream",
     "text": [
      "{3: 4}\n"
     ]
    }
   ],
   "source": [
    "print(dict)"
   ]
  },
  {
   "cell_type": "code",
   "execution_count": 60,
   "id": "cc7ea02c",
   "metadata": {},
   "outputs": [],
   "source": [
    "for i in range(10):\n",
    "    dict[i]=i*2"
   ]
  },
  {
   "cell_type": "code",
   "execution_count": 61,
   "id": "fb0f4b1a",
   "metadata": {},
   "outputs": [
    {
     "name": "stdout",
     "output_type": "stream",
     "text": [
      "{3: 6, 0: 0, 1: 2, 2: 4, 4: 8, 5: 10, 6: 12, 7: 14, 8: 16, 9: 18}\n"
     ]
    }
   ],
   "source": [
    "print(dict)"
   ]
  },
  {
   "cell_type": "code",
   "execution_count": 62,
   "id": "38a43c97",
   "metadata": {},
   "outputs": [],
   "source": [
    "del dict[0]"
   ]
  },
  {
   "cell_type": "code",
   "execution_count": 64,
   "id": "f7073336",
   "metadata": {},
   "outputs": [
    {
     "name": "stdout",
     "output_type": "stream",
     "text": [
      "{3: 6, 1: 2, 2: 4, 4: 8, 5: 10, 6: 12, 7: 14, 8: 16, 9: 18}\n"
     ]
    }
   ],
   "source": [
    "print(dict)"
   ]
  },
  {
   "cell_type": "code",
   "execution_count": 66,
   "id": "fe483310",
   "metadata": {},
   "outputs": [
    {
     "name": "stdout",
     "output_type": "stream",
     "text": [
      "Good weather at day 4\n"
     ]
    }
   ],
   "source": [
    "weather = ['sunny','rainy','cold','sunny']\n",
    "day = ['weekend','weekday','weekend','weekday']\n",
    "for i in range(len(weather)):\n",
    "    if weather[i]=='sunny' and day[i]!='weekend':\n",
    "        print('Good weather at day',i+1)\n"
   ]
  },
  {
   "cell_type": "code",
   "execution_count": 1,
   "id": "78cd5544",
   "metadata": {},
   "outputs": [],
   "source": [
    "dates = ['2023-09-01', '2023-09-02', '2023-09-03', '2023-09-04', '2023-09-05']\n",
    "temperature = [78, 82, 79, 85, 88]\n",
    "humidity = [60, 65, 62, 58, 57]\n",
    "precipitation = [0.0, 0.2, 0.0, 0.0, 0.0]"
   ]
  },
  {
   "cell_type": "code",
   "execution_count": 2,
   "id": "382ec853",
   "metadata": {},
   "outputs": [],
   "source": [
    "weather_data = list(zip(dates, temperature, humidity, precipitation))\n"
   ]
  },
  {
   "cell_type": "code",
   "execution_count": 3,
   "id": "b6503fe3",
   "metadata": {},
   "outputs": [
    {
     "name": "stdout",
     "output_type": "stream",
     "text": [
      "[('2023-09-01', 78, 60, 0.0), ('2023-09-02', 82, 65, 0.2), ('2023-09-03', 79, 62, 0.0), ('2023-09-04', 85, 58, 0.0), ('2023-09-05', 88, 57, 0.0)]\n"
     ]
    }
   ],
   "source": [
    "print(weather_data)"
   ]
  },
  {
   "cell_type": "code",
   "execution_count": 11,
   "id": "7e6b6be3",
   "metadata": {},
   "outputs": [
    {
     "name": "stdout",
     "output_type": "stream",
     "text": [
      "cold day is 2023-09-01\n",
      "Hot day is:  2023-09-02\n",
      "cold day is 2023-09-03\n",
      "Hot day is:  2023-09-04\n",
      "Hot day is:  2023-09-05\n"
     ]
    }
   ],
   "source": [
    "dict ={}\n",
    "for i,j in enumerate(weather_data):\n",
    "    if j[1]>80:SS\n",
    "        dict[j[0]]='Hot day'\n",
    "        print('Hot day is: ',j[0])\n",
    "    else:\n",
    "        dict[j[0]]='cold day'\n",
    "        print('cold day is',j[0])"
   ]
  },
  {
   "cell_type": "code",
   "execution_count": 12,
   "id": "a1f3fb01",
   "metadata": {},
   "outputs": [
    {
     "name": "stdout",
     "output_type": "stream",
     "text": [
      "{'2023-09-01': 'cold day', '2023-09-02': 'Hot day', '2023-09-03': 'cold day', '2023-09-04': 'Hot day', '2023-09-05': 'Hot day'}\n"
     ]
    }
   ],
   "source": [
    "print(dict)"
   ]
  },
  {
   "cell_type": "code",
   "execution_count": 15,
   "id": "be1a88b6",
   "metadata": {},
   "outputs": [
    {
     "name": "stdout",
     "output_type": "stream",
     "text": [
      "Average temperature is 82.4\n"
     ]
    }
   ],
   "source": [
    "sum = 0\n",
    "for i in temperature:\n",
    "    sum+=i\n",
    "print('Average temperature is',sum/(len(temperature)))"
   ]
  },
  {
   "cell_type": "code",
   "execution_count": 24,
   "id": "06fa9027",
   "metadata": {},
   "outputs": [
    {
     "name": "stdout",
     "output_type": "stream",
     "text": [
      "Hello Musaddiq, the current temperature is 78, and the weather forecast is ('2023-09-01', 78, 60, 0.0)\n",
      "Hello Musaddiq, the current temperature is 82, and the weather forecast is ('2023-09-02', 82, 65, 0.2)\n",
      "Hello Musaddiq, the current temperature is 79, and the weather forecast is ('2023-09-03', 79, 62, 0.0)\n",
      "Hello Musaddiq, the current temperature is 85, and the weather forecast is ('2023-09-04', 85, 58, 0.0)\n",
      "Hello Musaddiq, the current temperature is 88, and the weather forecast is ('2023-09-05', 88, 57, 0.0)\n"
     ]
    }
   ],
   "source": [
    "user = ['Musaddiq']\n",
    "for i,j in enumerate(weather_data):\n",
    "    print(f'Hello {user[0]}, the current temperature is {j[1]}, and the weather forecast is {j.islice()}')"
   ]
  },
  {
   "cell_type": "code",
   "execution_count": null,
   "id": "12f3f44e",
   "metadata": {},
   "outputs": [],
   "source": []
  }
 ],
 "metadata": {
  "kernelspec": {
   "display_name": "Python 3 (ipykernel)",
   "language": "python",
   "name": "python3"
  },
  "language_info": {
   "codemirror_mode": {
    "name": "ipython",
    "version": 3
   },
   "file_extension": ".py",
   "mimetype": "text/x-python",
   "name": "python",
   "nbconvert_exporter": "python",
   "pygments_lexer": "ipython3",
   "version": "3.11.4"
  }
 },
 "nbformat": 4,
 "nbformat_minor": 5
}
