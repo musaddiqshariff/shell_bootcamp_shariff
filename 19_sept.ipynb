{
 "cells": [
  {
   "cell_type": "code",
   "execution_count": 4,
   "id": "a975f01e",
   "metadata": {},
   "outputs": [],
   "source": [
    "import keyword as ks"
   ]
  },
  {
   "cell_type": "code",
   "execution_count": 13,
   "id": "6671dd49",
   "metadata": {},
   "outputs": [
    {
     "data": {
      "text/plain": [
       "35"
      ]
     },
     "execution_count": 13,
     "metadata": {},
     "output_type": "execute_result"
    }
   ],
   "source": [
    "len(ks.kwlist)"
   ]
  },
  {
   "cell_type": "code",
   "execution_count": 14,
   "id": "5f372f1d",
   "metadata": {},
   "outputs": [
    {
     "data": {
      "text/plain": [
       "['False',\n",
       " 'None',\n",
       " 'True',\n",
       " 'and',\n",
       " 'as',\n",
       " 'assert',\n",
       " 'async',\n",
       " 'await',\n",
       " 'break',\n",
       " 'class',\n",
       " 'continue',\n",
       " 'def',\n",
       " 'del',\n",
       " 'elif',\n",
       " 'else',\n",
       " 'except',\n",
       " 'finally',\n",
       " 'for',\n",
       " 'from',\n",
       " 'global',\n",
       " 'if',\n",
       " 'import',\n",
       " 'in',\n",
       " 'is',\n",
       " 'lambda',\n",
       " 'nonlocal',\n",
       " 'not',\n",
       " 'or',\n",
       " 'pass',\n",
       " 'raise',\n",
       " 'return',\n",
       " 'try',\n",
       " 'while',\n",
       " 'with',\n",
       " 'yield']"
      ]
     },
     "execution_count": 14,
     "metadata": {},
     "output_type": "execute_result"
    }
   ],
   "source": [
    "ks.kwlist"
   ]
  },
  {
   "cell_type": "code",
   "execution_count": 16,
   "id": "b099cdf5",
   "metadata": {},
   "outputs": [
    {
     "name": "stdout",
     "output_type": "stream",
     "text": [
      "musaddiq\n"
     ]
    }
   ],
   "source": [
    "def fun():\n",
    "    return 'musaddiq'\n",
    "print(fun())"
   ]
  },
  {
   "cell_type": "code",
   "execution_count": 35,
   "id": "01364094",
   "metadata": {},
   "outputs": [],
   "source": [
    "def temp(p1,v1,p2=123):\n",
    "    if p1==0 or v1==0 or p2==0:\n",
    "        return 'Zero division erro'\n",
    "    else:\n",
    "        return (p1*v1)/p2\n"
   ]
  },
  {
   "cell_type": "code",
   "execution_count": 26,
   "id": "22a5195a",
   "metadata": {
    "scrolled": true
   },
   "outputs": [
    {
     "name": "stdout",
     "output_type": "stream",
     "text": [
      "Enter P1100\n",
      "Enter v11\n",
      "Enter P2123\n",
      "0.8130081300813008\n"
     ]
    }
   ],
   "source": [
    "p1 = float(input(\"Enter P1\"))\n",
    "v1 = float(input(\"Enter v1\"))\n",
    "p2 = float(input(\"Enter P2\"))\n",
    "print(temp(p1,v1,p2))"
   ]
  },
  {
   "cell_type": "code",
   "execution_count": null,
   "id": "4a54b3b3",
   "metadata": {},
   "outputs": [],
   "source": [
    "#Event time\n",
    "#Ingestion time\n",
    "#Process time\n"
   ]
  },
  {
   "cell_type": "code",
   "execution_count": 46,
   "id": "b446704e",
   "metadata": {},
   "outputs": [
    {
     "name": "stdout",
     "output_type": "stream",
     "text": [
      "2023-09-19 04:35:31.187689\n"
     ]
    }
   ],
   "source": [
    "from datetime import datetime\n",
    "tod = datetime.now()\n",
    "print(tod)\n"
   ]
  },
  {
   "cell_type": "code",
   "execution_count": 47,
   "id": "dc494924",
   "metadata": {},
   "outputs": [
    {
     "name": "stdout",
     "output_type": "stream",
     "text": [
      "1695098219.438927\n"
     ]
    }
   ],
   "source": [
    "import time\n",
    "tn = time.time()\n",
    "print(tn)"
   ]
  },
  {
   "cell_type": "code",
   "execution_count": 52,
   "id": "c9c26e9c",
   "metadata": {},
   "outputs": [
    {
     "name": "stdout",
     "output_type": "stream",
     "text": [
      "Enter timestamp1 (YYYY-MM-DD HH:MM:SS): 2023-09-19 04:35:31\n",
      "Elapsed time is:  832.117483\n"
     ]
    }
   ],
   "source": [
    "import datetime\n",
    "timestamp1_str = input(\"Enter timestamp1 (YYYY-MM-DD HH:MM:SS): \")\n",
    "timestamp1 = datetime.datetime.strptime(timestamp1_str, \"%Y-%m-%d %H:%M:%S\")\n",
    "timestamp2 =  datetime.datetime.now()\n",
    "print(\"Elapsed time is: \",(timestamp2 -timestamp1).total_seconds(),\"seconds\")"
   ]
  },
  {
   "cell_type": "code",
   "execution_count": 54,
   "id": "89262840",
   "metadata": {},
   "outputs": [
    {
     "name": "stdout",
     "output_type": "stream",
     "text": [
      "Enter timestamp1 (YYYY-MM-DD HH:MM:SS): 2021-05-20 07:03:10\n",
      "2021-05-20 07:03:10\n",
      "2023-09-19 04:51:35.173043\n",
      "Elapsed time is:  73604905.173043 seconds\n"
     ]
    }
   ],
   "source": [
    "import datetime\n",
    "timestamp1_str = input(\"Enter timestamp1 (YYYY-MM-DD HH:MM:SS): \")\n",
    "timestamp1 = datetime.datetime.strptime(timestamp1_str, \"%Y-%m-%d %H:%M:%S\")\n",
    "timestamp2 =  datetime.datetime.now()\n",
    "print(timestamp1)\n",
    "print(timestamp2)\n",
    "print(\"Elapsed time is: \",(timestamp2 -timestamp1).total_seconds(),\"seconds\")"
   ]
  },
  {
   "cell_type": "code",
   "execution_count": 57,
   "id": "82877d17",
   "metadata": {},
   "outputs": [
    {
     "data": {
      "text/plain": [
       "11"
      ]
     },
     "execution_count": 57,
     "metadata": {},
     "output_type": "execute_result"
    }
   ],
   "source": [
    "def fun(a,b,c=4):\n",
    "    return a+b+c\n",
    "fun(4,3)"
   ]
  },
  {
   "cell_type": "code",
   "execution_count": 58,
   "id": "296d88ca",
   "metadata": {},
   "outputs": [
    {
     "data": {
      "text/plain": [
       "11"
      ]
     },
     "execution_count": 58,
     "metadata": {},
     "output_type": "execute_result"
    }
   ],
   "source": [
    "def fun(c,b,a=4):\n",
    "    return a+b+c\n",
    "fun(4,3)"
   ]
  },
  {
   "cell_type": "code",
   "execution_count": 68,
   "id": "e3cfac3c",
   "metadata": {},
   "outputs": [
    {
     "name": "stdout",
     "output_type": "stream",
     "text": [
      "[2, 3, 4]\n"
     ]
    }
   ],
   "source": [
    "def fun(*nums):\n",
    "    res = []\n",
    "    for i in nums:\n",
    "        res.append(i+1)\n",
    "    return res\n",
    "print(fun(1,2,3))"
   ]
  },
  {
   "cell_type": "code",
   "execution_count": 71,
   "id": "7d1292b7",
   "metadata": {},
   "outputs": [
    {
     "name": "stdout",
     "output_type": "stream",
     "text": [
      "24\n"
     ]
    }
   ],
   "source": [
    "def fact(n):\n",
    "    if n==1 or n==0:\n",
    "        return 1\n",
    "    return n*fact(n-1)\n",
    "print(fact(4))"
   ]
  },
  {
   "cell_type": "code",
   "execution_count": 88,
   "id": "811f1155",
   "metadata": {},
   "outputs": [
    {
     "name": "stdout",
     "output_type": "stream",
     "text": [
      "0 year reserve is: 1000\n",
      "1 year reserve is: 999.9\n",
      "2 year reserve is: 999.8\n",
      "3 year reserve is: 999.6999999999999\n",
      "4 year reserve is: 999.5999999999999\n",
      "5 year reserve is: 999.4999999999999\n",
      "6 year reserve is: 999.3999999999999\n",
      "7 year reserve is: 999.2999999999998\n",
      "8 year reserve is: 999.1999999999998\n",
      "999.1999999999998\n"
     ]
    }
   ],
   "source": [
    "def remaining_reserves(year,oil_well):\n",
    "    \n",
    "    if year==0:\n",
    "        rem_res=oil_well[\"initial_reserves\"]\n",
    "        print(f\"{year} year reserve is: {oil_well['initial_reserves']}\")\n",
    "        return rem_res\n",
    "    rem1_res = remaining_reserves(year - 1, oil_well) - oil_well[\"decline_rate\"]\n",
    "    print(f\"{year} year reserve is: {rem1_res}\")\n",
    "    return rem1_res\n",
    "        \n",
    "        \n",
    "year = 8\n",
    "oil_well = {\n",
    "    \"name\": \"Well A\",\n",
    "    \"initial_reserves\": 1000,  # Initial oil reserves in barrels\n",
    "    \"decline_rate\": 0.1,       # Annual decline rate\n",
    "}\n",
    "print(remaining_reserves(year,oil_well))"
   ]
  },
  {
   "cell_type": "code",
   "execution_count": 2,
   "id": "7b4c51bd",
   "metadata": {},
   "outputs": [
    {
     "name": "stdout",
     "output_type": "stream",
     "text": [
      "7\n",
      "6\n",
      "5\n",
      "4\n",
      "3\n",
      "2\n",
      "1\n"
     ]
    }
   ],
   "source": [
    "def countdown(num):\n",
    "    while num>0:\n",
    "        yield num\n",
    "        num-=1\n",
    "val=countdown(7)\n",
    "for i in val:\n",
    "    print(i)"
   ]
  },
  {
   "cell_type": "code",
   "execution_count": 3,
   "id": "eda60610",
   "metadata": {},
   "outputs": [],
   "source": [
    "class Route:\n",
    "    def __init__(self, route_id, route_name, capacity, cost_per_km):\n",
    "        self.route_id = route_id\n",
    "        self.route_name = route_name\n",
    "        self.capacity = capacity\n",
    "        self.cost_per_km = cost_per_km\n",
    "        self.capacity_available = capacity\n",
    "\n",
    "class Shipment:\n",
    "    def __init__(self, shipment_id, product_type, quantity, distance_km):\n",
    "        self.shipment_id = shipment_id\n",
    "        self.product_type = product_type\n",
    "        self.quantity = quantity\n",
    "        self.distance_km = distance_km\n",
    "        self.cost = 0  # Placeholder for calculated cost\n",
    "\n",
    "class DistributionCenter:\n",
    "    def __init__(self, center_id, center_name, location):\n",
    "        self.center_id = center_id\n",
    "        self.center_name = center_name\n",
    "        self.location = location\n",
    "\n",
    "class LogisticsManager:\n",
    "    def __init__(self, routes, shipments, distribution_centers):\n",
    "        self.routes = [Route(**r) for r in routes]\n",
    "        self.shipments = [Shipment(**s) for s in shipments]\n",
    "        self.distribution_centers = [DistributionCenter(**dc) for dc in distribution_centers]\n"
   ]
  },
  {
   "cell_type": "code",
   "execution_count": 8,
   "id": "a1f1e56d",
   "metadata": {},
   "outputs": [
    {
     "name": "stdout",
     "output_type": "stream",
     "text": [
      "7\n"
     ]
    }
   ],
   "source": [
    "#Assignment 1\n",
    "val = lambda k,l: k+l\n",
    "print(val(3,4))\n",
    "    "
   ]
  },
  {
   "cell_type": "code",
   "execution_count": 15,
   "id": "0d8b596b",
   "metadata": {},
   "outputs": [
    {
     "name": "stdout",
     "output_type": "stream",
     "text": [
      "Hi\n",
      "1\n",
      "my\n",
      "2\n",
      "name\n",
      "3\n",
      "is\n",
      "4\n",
      "Musaddiq\n",
      "5\n",
      "Shariff\n",
      "6\n",
      "I\n",
      "7\n",
      "work\n",
      "8\n",
      "as\n",
      "9\n",
      "Data\n",
      "10\n",
      "Engineer\n",
      "11\n",
      "at\n",
      "12\n",
      "shell\n",
      "India\n",
      "13\n",
      "Markets\n",
      "14\n",
      "14\n"
     ]
    }
   ],
   "source": [
    "str = '''Hi my name is Musaddiq Shariff I work as Data Engineer at shell\n",
    "India Markets'''\n",
    "count=0\n",
    "for i in str.split(' '):\n",
    "    count+=1\n",
    "    print(i)\n",
    "    print(count)\n",
    "print(count)"
   ]
  },
  {
   "cell_type": "code",
   "execution_count": null,
   "id": "86703088",
   "metadata": {},
   "outputs": [],
   "source": []
  }
 ],
 "metadata": {
  "kernelspec": {
   "display_name": "Python 3 (ipykernel)",
   "language": "python",
   "name": "python3"
  },
  "language_info": {
   "codemirror_mode": {
    "name": "ipython",
    "version": 3
   },
   "file_extension": ".py",
   "mimetype": "text/x-python",
   "name": "python",
   "nbconvert_exporter": "python",
   "pygments_lexer": "ipython3",
   "version": "3.11.4"
  }
 },
 "nbformat": 4,
 "nbformat_minor": 5
}
